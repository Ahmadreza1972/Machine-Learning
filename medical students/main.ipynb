{
 "cells": [
  {
   "cell_type": "code",
   "execution_count": 2,
   "metadata": {},
   "outputs": [],
   "source": [
    "import pandas as pd\n",
    "import matplotlib.pyplot as plt\n",
    "from sklearn.impute import SimpleImputer\n",
    "from sklearn.model_selection import train_test_split\n",
    "from sklearn.preprocessing import StandardScaler,MinMaxScaler\n",
    "from sklearn.compose import ColumnTransformer\n",
    "import numpy as np\n",
    "import seaborn as sns"
   ]
  },
  {
   "cell_type": "code",
   "execution_count": 3,
   "metadata": {},
   "outputs": [
    {
     "name": "stderr",
     "output_type": "stream",
     "text": [
      "C:\\Users\\ahmad\\AppData\\Local\\Temp\\ipykernel_4552\\1118038242.py:3: FutureWarning: DataFrame.applymap has been deprecated. Use DataFrame.map instead.\n",
      "  raw_data=raw_data.applymap(lambda x: np.nan if x is None else x)\n"
     ]
    },
    {
     "data": {
      "text/html": [
       "<div>\n",
       "<style scoped>\n",
       "    .dataframe tbody tr th:only-of-type {\n",
       "        vertical-align: middle;\n",
       "    }\n",
       "\n",
       "    .dataframe tbody tr th {\n",
       "        vertical-align: top;\n",
       "    }\n",
       "\n",
       "    .dataframe thead th {\n",
       "        text-align: right;\n",
       "    }\n",
       "</style>\n",
       "<table border=\"1\" class=\"dataframe\">\n",
       "  <thead>\n",
       "    <tr style=\"text-align: right;\">\n",
       "      <th></th>\n",
       "      <th>Student ID</th>\n",
       "      <th>Age</th>\n",
       "      <th>Gender</th>\n",
       "      <th>Height</th>\n",
       "      <th>Weight</th>\n",
       "      <th>Blood Type</th>\n",
       "      <th>BMI</th>\n",
       "      <th>Temperature</th>\n",
       "      <th>Heart Rate</th>\n",
       "      <th>Blood Pressure</th>\n",
       "      <th>Cholesterol</th>\n",
       "      <th>Diabetes</th>\n",
       "      <th>Smoking</th>\n",
       "    </tr>\n",
       "  </thead>\n",
       "  <tbody>\n",
       "    <tr>\n",
       "      <th>0</th>\n",
       "      <td>1.0</td>\n",
       "      <td>18.0</td>\n",
       "      <td>Female</td>\n",
       "      <td>161.777924</td>\n",
       "      <td>72.354947</td>\n",
       "      <td>O</td>\n",
       "      <td>27.645835</td>\n",
       "      <td>NaN</td>\n",
       "      <td>95.0</td>\n",
       "      <td>109.0</td>\n",
       "      <td>203.0</td>\n",
       "      <td>No</td>\n",
       "      <td>NaN</td>\n",
       "    </tr>\n",
       "    <tr>\n",
       "      <th>1</th>\n",
       "      <td>2.0</td>\n",
       "      <td>NaN</td>\n",
       "      <td>Male</td>\n",
       "      <td>152.069157</td>\n",
       "      <td>47.630941</td>\n",
       "      <td>B</td>\n",
       "      <td>NaN</td>\n",
       "      <td>98.714977</td>\n",
       "      <td>93.0</td>\n",
       "      <td>104.0</td>\n",
       "      <td>163.0</td>\n",
       "      <td>No</td>\n",
       "      <td>No</td>\n",
       "    </tr>\n",
       "    <tr>\n",
       "      <th>100001</th>\n",
       "      <td>2.0</td>\n",
       "      <td>34.0</td>\n",
       "      <td>Male</td>\n",
       "      <td>152.069157</td>\n",
       "      <td>47.630941</td>\n",
       "      <td>B</td>\n",
       "      <td>20.597139</td>\n",
       "      <td>98.714977</td>\n",
       "      <td>93.0</td>\n",
       "      <td>104.0</td>\n",
       "      <td>163.0</td>\n",
       "      <td>No</td>\n",
       "      <td>No</td>\n",
       "    </tr>\n",
       "    <tr>\n",
       "      <th>2</th>\n",
       "      <td>3.0</td>\n",
       "      <td>32.0</td>\n",
       "      <td>Female</td>\n",
       "      <td>182.537664</td>\n",
       "      <td>55.741083</td>\n",
       "      <td>A</td>\n",
       "      <td>16.729017</td>\n",
       "      <td>98.260293</td>\n",
       "      <td>76.0</td>\n",
       "      <td>130.0</td>\n",
       "      <td>216.0</td>\n",
       "      <td>Yes</td>\n",
       "      <td>No</td>\n",
       "    </tr>\n",
       "    <tr>\n",
       "      <th>100003</th>\n",
       "      <td>4.0</td>\n",
       "      <td>30.0</td>\n",
       "      <td>Male</td>\n",
       "      <td>182.112867</td>\n",
       "      <td>63.332207</td>\n",
       "      <td>B</td>\n",
       "      <td>19.096042</td>\n",
       "      <td>98.839605</td>\n",
       "      <td>99.0</td>\n",
       "      <td>112.0</td>\n",
       "      <td>141.0</td>\n",
       "      <td>No</td>\n",
       "      <td>Yes</td>\n",
       "    </tr>\n",
       "    <tr>\n",
       "      <th>4</th>\n",
       "      <td>5.0</td>\n",
       "      <td>23.0</td>\n",
       "      <td>Female</td>\n",
       "      <td>NaN</td>\n",
       "      <td>46.234173</td>\n",
       "      <td>O</td>\n",
       "      <td>NaN</td>\n",
       "      <td>98.480008</td>\n",
       "      <td>95.0</td>\n",
       "      <td>NaN</td>\n",
       "      <td>231.0</td>\n",
       "      <td>No</td>\n",
       "      <td>No</td>\n",
       "    </tr>\n",
       "    <tr>\n",
       "      <th>100004</th>\n",
       "      <td>5.0</td>\n",
       "      <td>23.0</td>\n",
       "      <td>Female</td>\n",
       "      <td>179.339293</td>\n",
       "      <td>46.234173</td>\n",
       "      <td>O</td>\n",
       "      <td>14.375143</td>\n",
       "      <td>98.480008</td>\n",
       "      <td>95.0</td>\n",
       "      <td>139.0</td>\n",
       "      <td>231.0</td>\n",
       "      <td>No</td>\n",
       "      <td>No</td>\n",
       "    </tr>\n",
       "    <tr>\n",
       "      <th>5</th>\n",
       "      <td>6.0</td>\n",
       "      <td>32.0</td>\n",
       "      <td>NaN</td>\n",
       "      <td>151.491294</td>\n",
       "      <td>68.647805</td>\n",
       "      <td>B</td>\n",
       "      <td>29.912403</td>\n",
       "      <td>99.668373</td>\n",
       "      <td>70.0</td>\n",
       "      <td>128.0</td>\n",
       "      <td>183.0</td>\n",
       "      <td>NaN</td>\n",
       "      <td>Yes</td>\n",
       "    </tr>\n",
       "    <tr>\n",
       "      <th>100005</th>\n",
       "      <td>6.0</td>\n",
       "      <td>32.0</td>\n",
       "      <td>Female</td>\n",
       "      <td>NaN</td>\n",
       "      <td>NaN</td>\n",
       "      <td>B</td>\n",
       "      <td>29.912403</td>\n",
       "      <td>99.668373</td>\n",
       "      <td>70.0</td>\n",
       "      <td>128.0</td>\n",
       "      <td>183.0</td>\n",
       "      <td>No</td>\n",
       "      <td>Yes</td>\n",
       "    </tr>\n",
       "    <tr>\n",
       "      <th>6</th>\n",
       "      <td>7.0</td>\n",
       "      <td>21.0</td>\n",
       "      <td>NaN</td>\n",
       "      <td>172.949704</td>\n",
       "      <td>48.102744</td>\n",
       "      <td>AB</td>\n",
       "      <td>16.081635</td>\n",
       "      <td>97.715469</td>\n",
       "      <td>66.0</td>\n",
       "      <td>134.0</td>\n",
       "      <td>247.0</td>\n",
       "      <td>No</td>\n",
       "      <td>No</td>\n",
       "    </tr>\n",
       "  </tbody>\n",
       "</table>\n",
       "</div>"
      ],
      "text/plain": [
       "        Student ID   Age  Gender      Height     Weight Blood Type        BMI  \\\n",
       "0              1.0  18.0  Female  161.777924  72.354947          O  27.645835   \n",
       "1              2.0   NaN    Male  152.069157  47.630941          B        NaN   \n",
       "100001         2.0  34.0    Male  152.069157  47.630941          B  20.597139   \n",
       "2              3.0  32.0  Female  182.537664  55.741083          A  16.729017   \n",
       "100003         4.0  30.0    Male  182.112867  63.332207          B  19.096042   \n",
       "4              5.0  23.0  Female         NaN  46.234173          O        NaN   \n",
       "100004         5.0  23.0  Female  179.339293  46.234173          O  14.375143   \n",
       "5              6.0  32.0     NaN  151.491294  68.647805          B  29.912403   \n",
       "100005         6.0  32.0  Female         NaN        NaN          B  29.912403   \n",
       "6              7.0  21.0     NaN  172.949704  48.102744         AB  16.081635   \n",
       "\n",
       "        Temperature  Heart Rate  Blood Pressure  Cholesterol Diabetes Smoking  \n",
       "0               NaN        95.0           109.0        203.0       No     NaN  \n",
       "1         98.714977        93.0           104.0        163.0       No      No  \n",
       "100001    98.714977        93.0           104.0        163.0       No      No  \n",
       "2         98.260293        76.0           130.0        216.0      Yes      No  \n",
       "100003    98.839605        99.0           112.0        141.0       No     Yes  \n",
       "4         98.480008        95.0             NaN        231.0       No      No  \n",
       "100004    98.480008        95.0           139.0        231.0       No      No  \n",
       "5         99.668373        70.0           128.0        183.0      NaN     Yes  \n",
       "100005    99.668373        70.0           128.0        183.0       No     Yes  \n",
       "6         97.715469        66.0           134.0        247.0       No      No  "
      ]
     },
     "execution_count": 3,
     "metadata": {},
     "output_type": "execute_result"
    }
   ],
   "source": [
    "raw_data=pd.read_csv(\"medical_students_dataset.csv\")\n",
    "raw_data.sort_values(\"Student ID\",inplace=True)\n",
    "raw_data=raw_data.applymap(lambda x: np.nan if x is None else x)\n",
    "#raw_data = raw_data.where(pd.notna(raw_data), None)\n",
    "raw_data.head(10)\n"
   ]
  },
  {
   "cell_type": "markdown",
   "metadata": {},
   "source": [
    "as you can see data includes null values and dublicates.\n"
   ]
  },
  {
   "cell_type": "code",
   "execution_count": 4,
   "metadata": {},
   "outputs": [
    {
     "data": {
      "text/html": [
       "<div>\n",
       "<style scoped>\n",
       "    .dataframe tbody tr th:only-of-type {\n",
       "        vertical-align: middle;\n",
       "    }\n",
       "\n",
       "    .dataframe tbody tr th {\n",
       "        vertical-align: top;\n",
       "    }\n",
       "\n",
       "    .dataframe thead th {\n",
       "        text-align: right;\n",
       "    }\n",
       "</style>\n",
       "<table border=\"1\" class=\"dataframe\">\n",
       "  <thead>\n",
       "    <tr style=\"text-align: right;\">\n",
       "      <th></th>\n",
       "      <th>Student ID</th>\n",
       "      <th>Age</th>\n",
       "      <th>Gender</th>\n",
       "      <th>Height</th>\n",
       "      <th>Weight</th>\n",
       "      <th>Blood Type</th>\n",
       "      <th>BMI</th>\n",
       "      <th>Temperature</th>\n",
       "      <th>Heart Rate</th>\n",
       "      <th>Blood Pressure</th>\n",
       "      <th>Cholesterol</th>\n",
       "      <th>Diabetes</th>\n",
       "      <th>Smoking</th>\n",
       "    </tr>\n",
       "  </thead>\n",
       "  <tbody>\n",
       "    <tr>\n",
       "      <th>0</th>\n",
       "      <td>1.0</td>\n",
       "      <td>18.0</td>\n",
       "      <td>Female</td>\n",
       "      <td>161.777924</td>\n",
       "      <td>72.354947</td>\n",
       "      <td>O</td>\n",
       "      <td>27.645835</td>\n",
       "      <td>NaN</td>\n",
       "      <td>95.0</td>\n",
       "      <td>109.0</td>\n",
       "      <td>203.0</td>\n",
       "      <td>No</td>\n",
       "      <td>NaN</td>\n",
       "    </tr>\n",
       "    <tr>\n",
       "      <th>1</th>\n",
       "      <td>2.0</td>\n",
       "      <td>NaN</td>\n",
       "      <td>Male</td>\n",
       "      <td>152.069157</td>\n",
       "      <td>47.630941</td>\n",
       "      <td>B</td>\n",
       "      <td>NaN</td>\n",
       "      <td>98.714977</td>\n",
       "      <td>93.0</td>\n",
       "      <td>104.0</td>\n",
       "      <td>163.0</td>\n",
       "      <td>No</td>\n",
       "      <td>No</td>\n",
       "    </tr>\n",
       "    <tr>\n",
       "      <th>100001</th>\n",
       "      <td>2.0</td>\n",
       "      <td>34.0</td>\n",
       "      <td>Male</td>\n",
       "      <td>152.069157</td>\n",
       "      <td>47.630941</td>\n",
       "      <td>B</td>\n",
       "      <td>20.597139</td>\n",
       "      <td>98.714977</td>\n",
       "      <td>93.0</td>\n",
       "      <td>104.0</td>\n",
       "      <td>163.0</td>\n",
       "      <td>No</td>\n",
       "      <td>No</td>\n",
       "    </tr>\n",
       "    <tr>\n",
       "      <th>2</th>\n",
       "      <td>3.0</td>\n",
       "      <td>32.0</td>\n",
       "      <td>Female</td>\n",
       "      <td>182.537664</td>\n",
       "      <td>55.741083</td>\n",
       "      <td>A</td>\n",
       "      <td>16.729017</td>\n",
       "      <td>98.260293</td>\n",
       "      <td>76.0</td>\n",
       "      <td>130.0</td>\n",
       "      <td>216.0</td>\n",
       "      <td>Yes</td>\n",
       "      <td>No</td>\n",
       "    </tr>\n",
       "    <tr>\n",
       "      <th>100003</th>\n",
       "      <td>4.0</td>\n",
       "      <td>30.0</td>\n",
       "      <td>Male</td>\n",
       "      <td>182.112867</td>\n",
       "      <td>63.332207</td>\n",
       "      <td>B</td>\n",
       "      <td>19.096042</td>\n",
       "      <td>98.839605</td>\n",
       "      <td>99.0</td>\n",
       "      <td>112.0</td>\n",
       "      <td>141.0</td>\n",
       "      <td>No</td>\n",
       "      <td>Yes</td>\n",
       "    </tr>\n",
       "    <tr>\n",
       "      <th>...</th>\n",
       "      <td>...</td>\n",
       "      <td>...</td>\n",
       "      <td>...</td>\n",
       "      <td>...</td>\n",
       "      <td>...</td>\n",
       "      <td>...</td>\n",
       "      <td>...</td>\n",
       "      <td>...</td>\n",
       "      <td>...</td>\n",
       "      <td>...</td>\n",
       "      <td>...</td>\n",
       "      <td>...</td>\n",
       "      <td>...</td>\n",
       "    </tr>\n",
       "    <tr>\n",
       "      <th>199917</th>\n",
       "      <td>NaN</td>\n",
       "      <td>30.0</td>\n",
       "      <td>Male</td>\n",
       "      <td>160.993293</td>\n",
       "      <td>48.725905</td>\n",
       "      <td>B</td>\n",
       "      <td>18.799416</td>\n",
       "      <td>98.220218</td>\n",
       "      <td>NaN</td>\n",
       "      <td>91.0</td>\n",
       "      <td>139.0</td>\n",
       "      <td>No</td>\n",
       "      <td>No</td>\n",
       "    </tr>\n",
       "    <tr>\n",
       "      <th>199940</th>\n",
       "      <td>NaN</td>\n",
       "      <td>30.0</td>\n",
       "      <td>NaN</td>\n",
       "      <td>158.451908</td>\n",
       "      <td>75.739627</td>\n",
       "      <td>AB</td>\n",
       "      <td>30.166729</td>\n",
       "      <td>98.089516</td>\n",
       "      <td>73.0</td>\n",
       "      <td>108.0</td>\n",
       "      <td>143.0</td>\n",
       "      <td>No</td>\n",
       "      <td>No</td>\n",
       "    </tr>\n",
       "    <tr>\n",
       "      <th>199941</th>\n",
       "      <td>NaN</td>\n",
       "      <td>NaN</td>\n",
       "      <td>NaN</td>\n",
       "      <td>167.192837</td>\n",
       "      <td>50.169768</td>\n",
       "      <td>NaN</td>\n",
       "      <td>17.947616</td>\n",
       "      <td>97.584901</td>\n",
       "      <td>81.0</td>\n",
       "      <td>107.0</td>\n",
       "      <td>244.0</td>\n",
       "      <td>No</td>\n",
       "      <td>Yes</td>\n",
       "    </tr>\n",
       "    <tr>\n",
       "      <th>199956</th>\n",
       "      <td>NaN</td>\n",
       "      <td>21.0</td>\n",
       "      <td>Female</td>\n",
       "      <td>NaN</td>\n",
       "      <td>91.240475</td>\n",
       "      <td>B</td>\n",
       "      <td>30.272756</td>\n",
       "      <td>NaN</td>\n",
       "      <td>71.0</td>\n",
       "      <td>98.0</td>\n",
       "      <td>176.0</td>\n",
       "      <td>No</td>\n",
       "      <td>Yes</td>\n",
       "    </tr>\n",
       "    <tr>\n",
       "      <th>199995</th>\n",
       "      <td>NaN</td>\n",
       "      <td>24.0</td>\n",
       "      <td>Male</td>\n",
       "      <td>176.503260</td>\n",
       "      <td>95.756997</td>\n",
       "      <td>B</td>\n",
       "      <td>30.737254</td>\n",
       "      <td>99.170685</td>\n",
       "      <td>65.0</td>\n",
       "      <td>121.0</td>\n",
       "      <td>130.0</td>\n",
       "      <td>No</td>\n",
       "      <td>No</td>\n",
       "    </tr>\n",
       "  </tbody>\n",
       "</table>\n",
       "<p>200000 rows × 13 columns</p>\n",
       "</div>"
      ],
      "text/plain": [
       "        Student ID   Age  Gender      Height     Weight Blood Type        BMI  \\\n",
       "0              1.0  18.0  Female  161.777924  72.354947          O  27.645835   \n",
       "1              2.0   NaN    Male  152.069157  47.630941          B        NaN   \n",
       "100001         2.0  34.0    Male  152.069157  47.630941          B  20.597139   \n",
       "2              3.0  32.0  Female  182.537664  55.741083          A  16.729017   \n",
       "100003         4.0  30.0    Male  182.112867  63.332207          B  19.096042   \n",
       "...            ...   ...     ...         ...        ...        ...        ...   \n",
       "199917         NaN  30.0    Male  160.993293  48.725905          B  18.799416   \n",
       "199940         NaN  30.0     NaN  158.451908  75.739627         AB  30.166729   \n",
       "199941         NaN   NaN     NaN  167.192837  50.169768        NaN  17.947616   \n",
       "199956         NaN  21.0  Female         NaN  91.240475          B  30.272756   \n",
       "199995         NaN  24.0    Male  176.503260  95.756997          B  30.737254   \n",
       "\n",
       "        Temperature  Heart Rate  Blood Pressure  Cholesterol Diabetes Smoking  \n",
       "0               NaN        95.0           109.0        203.0       No     NaN  \n",
       "1         98.714977        93.0           104.0        163.0       No      No  \n",
       "100001    98.714977        93.0           104.0        163.0       No      No  \n",
       "2         98.260293        76.0           130.0        216.0      Yes      No  \n",
       "100003    98.839605        99.0           112.0        141.0       No     Yes  \n",
       "...             ...         ...             ...          ...      ...     ...  \n",
       "199917    98.220218         NaN            91.0        139.0       No      No  \n",
       "199940    98.089516        73.0           108.0        143.0       No      No  \n",
       "199941    97.584901        81.0           107.0        244.0       No     Yes  \n",
       "199956          NaN        71.0            98.0        176.0       No     Yes  \n",
       "199995    99.170685        65.0           121.0        130.0       No      No  \n",
       "\n",
       "[200000 rows x 13 columns]"
      ]
     },
     "execution_count": 4,
     "metadata": {},
     "output_type": "execute_result"
    }
   ],
   "source": [
    "raw_data.sort_values(\"Student ID\")"
   ]
  },
  {
   "cell_type": "markdown",
   "metadata": {},
   "source": [
    "we should be sure that data inclueds dublicates"
   ]
  },
  {
   "cell_type": "code",
   "execution_count": 5,
   "metadata": {},
   "outputs": [
    {
     "data": {
      "text/html": [
       "<div>\n",
       "<style scoped>\n",
       "    .dataframe tbody tr th:only-of-type {\n",
       "        vertical-align: middle;\n",
       "    }\n",
       "\n",
       "    .dataframe tbody tr th {\n",
       "        vertical-align: top;\n",
       "    }\n",
       "\n",
       "    .dataframe thead th {\n",
       "        text-align: right;\n",
       "    }\n",
       "</style>\n",
       "<table border=\"1\" class=\"dataframe\">\n",
       "  <thead>\n",
       "    <tr style=\"text-align: right;\">\n",
       "      <th></th>\n",
       "      <th>Student ID</th>\n",
       "      <th>Age</th>\n",
       "      <th>Gender</th>\n",
       "      <th>Height</th>\n",
       "      <th>Weight</th>\n",
       "      <th>Blood Type</th>\n",
       "      <th>BMI</th>\n",
       "      <th>Temperature</th>\n",
       "      <th>Heart Rate</th>\n",
       "      <th>Blood Pressure</th>\n",
       "      <th>Cholesterol</th>\n",
       "      <th>Diabetes</th>\n",
       "      <th>Smoking</th>\n",
       "    </tr>\n",
       "  </thead>\n",
       "  <tbody>\n",
       "    <tr>\n",
       "      <th>7</th>\n",
       "      <td>8.0</td>\n",
       "      <td>28.0</td>\n",
       "      <td>Male</td>\n",
       "      <td>186.489402</td>\n",
       "      <td>52.389752</td>\n",
       "      <td>AB</td>\n",
       "      <td>15.063921</td>\n",
       "      <td>98.227788</td>\n",
       "      <td>85.0</td>\n",
       "      <td>123.0</td>\n",
       "      <td>128.0</td>\n",
       "      <td>No</td>\n",
       "      <td>No</td>\n",
       "    </tr>\n",
       "  </tbody>\n",
       "</table>\n",
       "</div>"
      ],
      "text/plain": [
       "   Student ID   Age Gender      Height     Weight Blood Type        BMI  \\\n",
       "7         8.0  28.0   Male  186.489402  52.389752         AB  15.063921   \n",
       "\n",
       "   Temperature  Heart Rate  Blood Pressure  Cholesterol Diabetes Smoking  \n",
       "7    98.227788        85.0           123.0        128.0       No      No  "
      ]
     },
     "execution_count": 5,
     "metadata": {},
     "output_type": "execute_result"
    }
   ],
   "source": [
    "raw_data.drop_duplicates(inplace=True)\n",
    "raw_data[raw_data[\"Student ID\"]==8]"
   ]
  },
  {
   "cell_type": "markdown",
   "metadata": {},
   "source": [
    "we removed doblicate and test to be sure we remove right values and keep one of the dublicate data"
   ]
  },
  {
   "cell_type": "code",
   "execution_count": 6,
   "metadata": {},
   "outputs": [
    {
     "name": "stdout",
     "output_type": "stream",
     "text": [
      "                total nulvalues   percent\n",
      "Student ID                19891  0.103407\n",
      "Age                       19892  0.103412\n",
      "Gender                    19924  0.103579\n",
      "Height                    19907  0.103490\n",
      "Weight                    19901  0.103459\n",
      "Blood Type                19916  0.103537\n",
      "BMI                       19900  0.103454\n",
      "Temperature               19911  0.103511\n",
      "Heart Rate                19903  0.103470\n",
      "Blood Pressure            19892  0.103412\n",
      "Cholesterol               19893  0.103418\n",
      "Diabetes                  19905  0.103480\n",
      "Smoking                   19897  0.103438\n"
     ]
    }
   ],
   "source": [
    "def check_nulls():\n",
    "    nul_vals=pd.DataFrame(pd.isnull(raw_data).sum(axis=0),columns=[\"total nulvalues\"])\n",
    "    nul_vals[\"percent\"]=pd.isnull(raw_data).sum(axis=0)/len(raw_data)\n",
    "    print(nul_vals)\n",
    "check_nulls()"
   ]
  },
  {
   "cell_type": "markdown",
   "metadata": {},
   "source": [
    "as you can see, in each raw we have around 10 percent of data is null, so we cannot remove them. instead, first we shouyld try to recalculate null values in BMI."
   ]
  },
  {
   "cell_type": "code",
   "execution_count": 7,
   "metadata": {},
   "outputs": [],
   "source": [
    "import math\n",
    "def BMI_fixer(row):\n",
    "    if pd.isna(row[\"BMI\"]):\n",
    "        if ~pd.isna(row[\"Height\"]):\n",
    "            if ~pd.isna(row[\"Weight\"]):\n",
    "                row[\"BMI\"]=row[\"Weight\"]/(row[\"Height\"]**2)\n",
    "\n",
    "    if pd.isna(row[\"Height\"]):\n",
    "        if ~pd.isna(row[\"BMI\"]):\n",
    "            if ~pd.isna(row[\"Weight\"]):\n",
    "                row[\"Height\"]= math.sqrt(row[\"Weight\"]/row[\"BMI\"])\n",
    "\n",
    "    if pd.isna(row[\"Weight\"]):\n",
    "        if ~pd.isna(row[\"BMI\"]):\n",
    "            if ~pd.isna(row[\"Height\"]):\n",
    "                row[\"Weight\"]=(row[\"Height\"]**2)* row[\"BMI\"] \n",
    "    return row\n",
    "raw_data[\"Height\"]=round(raw_data[\"Height\"]/100,2)\n",
    "raw_data = raw_data.where(pd.notna(raw_data), None)\n",
    "raw_data=raw_data.apply(lambda x: BMI_fixer(x),axis=1)  "
   ]
  },
  {
   "cell_type": "markdown",
   "metadata": {},
   "source": [
    "we can calculate BMI based on weight and height, so if one of the columns is null we can calculate that with other columns"
   ]
  },
  {
   "cell_type": "code",
   "execution_count": 8,
   "metadata": {},
   "outputs": [
    {
     "name": "stdout",
     "output_type": "stream",
     "text": [
      "                total nulvalues   percent\n",
      "Student ID                19891  0.103407\n",
      "Age                       19892  0.103412\n",
      "Gender                    19924  0.103579\n",
      "Height                     3761  0.019552\n",
      "Weight                     3771  0.019604\n",
      "Blood Type                19916  0.103537\n",
      "BMI                        3771  0.019604\n",
      "Temperature               19911  0.103511\n",
      "Heart Rate                19903  0.103470\n",
      "Blood Pressure            19892  0.103412\n",
      "Cholesterol               19893  0.103418\n",
      "Diabetes                  19905  0.103480\n",
      "Smoking                   19897  0.103438\n"
     ]
    }
   ],
   "source": [
    "check_nulls()\n"
   ]
  },
  {
   "cell_type": "markdown",
   "metadata": {},
   "source": [
    "now we can remove remaining null valus in BMI because the number of nulls is less than 5 %, Also remove height and weight, because we can use BNI instead of them"
   ]
  },
  {
   "cell_type": "code",
   "execution_count": 9,
   "metadata": {},
   "outputs": [],
   "source": [
    "raw_data.dropna(subset=['BMI'],inplace=True)\n",
    "raw_data.drop([\"Height\",\"Weight\",\"Student ID\"],axis=1,inplace=True)"
   ]
  },
  {
   "cell_type": "markdown",
   "metadata": {},
   "source": [
    "Removing useless columns"
   ]
  },
  {
   "cell_type": "code",
   "execution_count": 10,
   "metadata": {},
   "outputs": [],
   "source": [
    "rows=pd.DataFrame()\n",
    "for column in raw_data.columns[raw_data.dtypes==\"float64\"]:\n",
    "    q75=raw_data[column].quantile(0.75)\n",
    "    q25=raw_data[column].quantile(0.25)\n",
    "    iqr=q75-q25\n",
    "    upper=q75+(1.5*iqr)\n",
    "    lower=q25-(1.5*iqr)\n",
    "    rows=pd.concat([rows,raw_data[(raw_data[column]>upper)|(raw_data[column]<lower)]])\n",
    "    \n",
    "raw_data.drop(rows.index,inplace=True)"
   ]
  },
  {
   "cell_type": "code",
   "execution_count": 11,
   "metadata": {},
   "outputs": [
    {
     "data": {
      "image/png": "[encoded data removed]",
      "text/plain": [
       "<Figure size 600x400 with 1 Axes>"
      ]
     },
     "metadata": {},
     "output_type": "display_data"
    }
   ],
   "source": [
    "plt.figure(figsize=(6, 4))  # Optional: Set the figure size\n",
    "plt.boxplot(raw_data[\"Temperature\"].dropna(), vert=True, patch_artist=True, boxprops=dict(facecolor=\"lightblue\"))\n",
    "\n",
    "# Add labels and title\n",
    "plt.title(\"Boxplot of Age\")\n",
    "plt.ylabel(\"Age\")\n",
    "\n",
    "# Show the plot\n",
    "plt.show()"
   ]
  },
  {
   "cell_type": "markdown",
   "metadata": {},
   "source": [
    "manage outliers that may have neetive impact in our data"
   ]
  },
  {
   "cell_type": "code",
   "execution_count": 12,
   "metadata": {},
   "outputs": [
    {
     "data": {
      "text/plain": [
       "(array([6.8710e+04, 7.4552e+04, 3.3499e+04, 0.0000e+00, 8.7500e+03,\n",
       "        1.4770e+03, 0.0000e+00, 1.5400e+02, 1.2000e+01, 1.0000e+00]),\n",
       " array([0. , 0.7, 1.4, 2.1, 2.8, 3.5, 4.2, 4.9, 5.6, 6.3, 7. ]),\n",
       " <BarContainer object of 10 artists>)"
      ]
     },
     "execution_count": 12,
     "metadata": {},
     "output_type": "execute_result"
    },
    {
     "data": {
      "image/png": "[encoded data removed]",
      "text/plain": [
       "<Figure size 640x480 with 1 Axes>"
      ]
     },
     "metadata": {},
     "output_type": "display_data"
    }
   ],
   "source": [
    "\n",
    "plt.hist(raw_data.isnull().sum(axis=1))"
   ]
  },
  {
   "cell_type": "code",
   "execution_count": 13,
   "metadata": {},
   "outputs": [],
   "source": [
    "raw_data.drop(raw_data[raw_data.isnull().sum(axis=1)>3].index,inplace=True)"
   ]
  },
  {
   "cell_type": "code",
   "execution_count": 14,
   "metadata": {},
   "outputs": [
    {
     "data": {
      "text/plain": [
       "(array([68710.,     0.,     0., 74552.,     0.,     0., 33499.,     0.,\n",
       "            0.,  8750.]),\n",
       " array([0. , 0.3, 0.6, 0.9, 1.2, 1.5, 1.8, 2.1, 2.4, 2.7, 3. ]),\n",
       " <BarContainer object of 10 artists>)"
      ]
     },
     "execution_count": 14,
     "metadata": {},
     "output_type": "execute_result"
    },
    {
     "data": {
      "image/png": "[encoded data removed]",
      "text/plain": [
       "<Figure size 640x480 with 1 Axes>"
      ]
     },
     "metadata": {},
     "output_type": "display_data"
    }
   ],
   "source": [
    "plt.hist(pd.isnull(raw_data).sum(axis=1))"
   ]
  },
  {
   "cell_type": "markdown",
   "metadata": {},
   "source": [
    "removing columns with more than three null values for each rows"
   ]
  },
  {
   "cell_type": "code",
   "execution_count": 15,
   "metadata": {},
   "outputs": [
    {
     "name": "stderr",
     "output_type": "stream",
     "text": [
      "C:\\Users\\ahmad\\AppData\\Local\\Temp\\ipykernel_4552\\4047872196.py:15: FutureWarning: DataFrame.applymap has been deprecated. Use DataFrame.map instead.\n",
      "  x_train[[\"Gender\", \"Blood Type\", \"Diabetes\", \"Smoking\"]] = x_train[[\"Gender\", \"Blood Type\", \"Diabetes\", \"Smoking\"]].applymap(lambda x: np.nan if x is None else x)\n",
      "C:\\Users\\ahmad\\AppData\\Local\\Temp\\ipykernel_4552\\4047872196.py:16: FutureWarning: DataFrame.applymap has been deprecated. Use DataFrame.map instead.\n",
      "  x_test[[\"Gender\", \"Blood Type\", \"Diabetes\", \"Smoking\"]] = x_test[[\"Gender\", \"Blood Type\", \"Diabetes\", \"Smoking\"]].applymap(lambda x: np.nan if x is None else x)\n"
     ]
    }
   ],
   "source": [
    "\n",
    "y_data=raw_data[[\"Blood Pressure\"]]\n",
    "x_data=raw_data.drop([\"Blood Pressure\"],axis=1)\n",
    "\n",
    "x_train,x_test,y_train,y_test=train_test_split(x_data,y_data,train_size=0.8,random_state=42)\n",
    "\n",
    "numXT_imputer=SimpleImputer(strategy=\"mean\")\n",
    "numXTr_data=numXT_imputer.fit_transform(x_train[[\"Age\",\"Temperature\",\"Heart Rate\",\"Cholesterol\",\"BMI\"]])\n",
    "numXTst_data=numXT_imputer.transform(x_test[[\"Age\",\"Temperature\",\"Heart Rate\",\"Cholesterol\",\"BMI\"]])\n",
    "pip=ColumnTransformer(transformers=[(\"standardscaler\",StandardScaler(),[\"Age\",\"Temperature\",\"Heart Rate\",\"Cholesterol\"]),\n",
    "     (\"MinMax\",MinMaxScaler(),[\"BMI\"])])\n",
    "numXTr_data=pip.fit_transform(pd.DataFrame(numXTr_data,columns=[\"Age\",\"Temperature\",\"Heart Rate\",\"Cholesterol\",\"BMI\"]))\n",
    "numXTst_data=pip.transform(pd.DataFrame(numXTst_data,columns=[\"Age\",\"Temperature\",\"Heart Rate\",\"Cholesterol\",\"BMI\"]))\n",
    "\n",
    "cat_imputer=SimpleImputer(strategy=\"most_frequent\")\n",
    "x_train[[\"Gender\", \"Blood Type\", \"Diabetes\", \"Smoking\"]] = x_train[[\"Gender\", \"Blood Type\", \"Diabetes\", \"Smoking\"]].applymap(lambda x: np.nan if x is None else x)\n",
    "x_test[[\"Gender\", \"Blood Type\", \"Diabetes\", \"Smoking\"]] = x_test[[\"Gender\", \"Blood Type\", \"Diabetes\", \"Smoking\"]].applymap(lambda x: np.nan if x is None else x)\n",
    "catXTr_data=cat_imputer.fit_transform(x_train[[\"Gender\",\"Blood Type\",\"Diabetes\",\"Smoking\"]])\n",
    "catXTst_data=cat_imputer.transform(x_test[[\"Gender\",\"Blood Type\",\"Diabetes\",\"Smoking\"]])\n",
    "\n",
    "\n",
    "numYT_imputer=SimpleImputer(strategy=\"mean\")\n",
    "numYTr_data=numYT_imputer.fit_transform(y_train[[\"Blood Pressure\"]])\n",
    "numYTst_data=numYT_imputer.transform(y_test[[\"Blood Pressure\"]])\n",
    "\n",
    "nx_train=pd.concat([pd.DataFrame(numXTr_data,columns=[\"Age\",\"Temperature\",\"Heart Rate\",\"Cholesterol\",\"BMI\"]),pd.DataFrame(catXTr_data,columns=[\"Gender\",\"Blood Type\",\"Diabetes\",\"Smoking\"])], axis=1)\n",
    "nx_test=pd.concat([pd.DataFrame(numXTst_data,columns=[\"Age\",\"Temperature\",\"Heart Rate\",\"Cholesterol\",\"BMI\"]),pd.DataFrame(catXTst_data,columns=[\"Gender\",\"Blood Type\",\"Diabetes\",\"Smoking\"])], axis=1)\n"
   ]
  },
  {
   "cell_type": "markdown",
   "metadata": {},
   "source": [
    "first we divide data in test and train,\n",
    "second, in train set we try to fill null values in both categorical and numeric data\n",
    "third, we doing the same for test dataset\n",
    "the reason for doing imputer after dividing data in test and train, is to protect the process from data leakage"
   ]
  },
  {
   "cell_type": "code",
   "execution_count": 16,
   "metadata": {},
   "outputs": [],
   "source": [
    "nx_train[\"Gender\"]=nx_train[\"Gender\"].replace({\"Male\":1,\"Female\":0})\n",
    "nx_train[[\"Diabetes\",\"Smoking\"]]=nx_train[[\"Diabetes\",\"Smoking\"]].replace({\"Yes\":1,\"No\":0})  \n",
    "nx_train=pd.concat([nx_train,pd.get_dummies(nx_train[\"Blood Type\"],prefix=\"Blood Type: \").replace({True:1,False:0})],axis=1).drop([\"Blood Type\"],axis=1)  \n",
    "\n",
    "nx_test[\"Gender\"]=nx_test[\"Gender\"].replace({\"Male\":1,\"Female\":0})\n",
    "nx_test[[\"Diabetes\",\"Smoking\"]]=nx_test[[\"Diabetes\",\"Smoking\"]].replace({\"Yes\":1,\"No\":0})  \n",
    "nx_test=pd.concat([nx_test,pd.get_dummies(nx_test[\"Blood Type\"],prefix=\"Blood Type: \").replace({True:1,False:0})],axis=1).drop([\"Blood Type\"],axis=1) "
   ]
  },
  {
   "cell_type": "markdown",
   "metadata": {},
   "source": [
    "finally we try to convert all categoricall data in numeric data to be able use numeric methods like NN or regression models."
   ]
  },
  {
   "cell_type": "code",
   "execution_count": 21,
   "metadata": {},
   "outputs": [
    {
     "name": "stdout",
     "output_type": "stream",
     "text": [
      "R2: -9.13436263849654e-06\n",
      "mae: 11.23529831072197\n",
      "mse: 187.1327172349415\n"
     ]
    }
   ],
   "source": [
    "from sklearn.linear_model import LinearRegression\n",
    "from sklearn.metrics import mean_absolute_error,mean_squared_error\n",
    "lr=LinearRegression()\n",
    "lr.fit(nx_train,numYTr_data)\n",
    "y_pred=lr.predict(nx_test)\n",
    "r2=lr.score(nx_test,numYTst_data)\n",
    "mae=mean_absolute_error(numYTst_data,y_pred)\n",
    "mse=mean_squared_error(numYTst_data,y_pred)\n",
    "print(\"R2:\",r2)\n",
    "print(\"mae:\",mae)\n",
    "print(\"mse:\",mse)"
   ]
  },
  {
   "cell_type": "code",
   "execution_count": 30,
   "metadata": {},
   "outputs": [
    {
     "data": {
      "text/plain": [
       "<Axes: >"
      ]
     },
     "execution_count": 30,
     "metadata": {},
     "output_type": "execute_result"
    },
    {
     "data": {
      "image/png": "[encoded data removed]",
      "text/plain": [
       "<Figure size 640x480 with 2 Axes>"
      ]
     },
     "metadata": {},
     "output_type": "display_data"
    }
   ],
   "source": [
    "sns.heatmap(nx_train.corr())"
   ]
  },
  {
   "cell_type": "code",
   "execution_count": 39,
   "metadata": {},
   "outputs": [],
   "source": [
    "from sklearn.preprocessing import PolynomialFeatures\n",
    "polyfeat=PolynomialFeatures(degree=2,include_bias=False)\n",
    "pnx_train=polyfeat.fit_transform(nx_train)\n",
    "poly_feature_names =polyfeat.get_feature_names_out(input_features=nx_train.columns)\n",
    "pnx_train_df = pd.DataFrame(pnx_train,columns=poly_feature_names)\n",
    "corr=pnx_train_df.corr()\n"
   ]
  },
  {
   "cell_type": "code",
   "execution_count": null,
   "metadata": {},
   "outputs": [
    {
     "data": {
      "text/html": [
       "<style>#sk-container-id-1 {color: black;}#sk-container-id-1 pre{padding: 0;}#sk-container-id-1 div.sk-toggleable {background-color: white;}#sk-container-id-1 label.sk-toggleable__label {cursor: pointer;display: block;width: 100%;margin-bottom: 0;padding: 0.3em;box-sizing: border-box;text-align: center;}#sk-container-id-1 label.sk-toggleable__label-arrow:before {content: \"▸\";float: left;margin-right: 0.25em;color: #696969;}#sk-container-id-1 label.sk-toggleable__label-arrow:hover:before {color: black;}#sk-container-id-1 div.sk-estimator:hover label.sk-toggleable__label-arrow:before {color: black;}#sk-container-id-1 div.sk-toggleable__content {max-height: 0;max-width: 0;overflow: hidden;text-align: left;background-color: #f0f8ff;}#sk-container-id-1 div.sk-toggleable__content pre {margin: 0.2em;color: black;border-radius: 0.25em;background-color: #f0f8ff;}#sk-container-id-1 input.sk-toggleable__control:checked~div.sk-toggleable__content {max-height: 200px;max-width: 100%;overflow: auto;}#sk-container-id-1 input.sk-toggleable__control:checked~label.sk-toggleable__label-arrow:before {content: \"▾\";}#sk-container-id-1 div.sk-estimator input.sk-toggleable__control:checked~label.sk-toggleable__label {background-color: #d4ebff;}#sk-container-id-1 div.sk-label input.sk-toggleable__control:checked~label.sk-toggleable__label {background-color: #d4ebff;}#sk-container-id-1 input.sk-hidden--visually {border: 0;clip: rect(1px 1px 1px 1px);clip: rect(1px, 1px, 1px, 1px);height: 1px;margin: -1px;overflow: hidden;padding: 0;position: absolute;width: 1px;}#sk-container-id-1 div.sk-estimator {font-family: monospace;background-color: #f0f8ff;border: 1px dotted black;border-radius: 0.25em;box-sizing: border-box;margin-bottom: 0.5em;}#sk-container-id-1 div.sk-estimator:hover {background-color: #d4ebff;}#sk-container-id-1 div.sk-parallel-item::after {content: \"\";width: 100%;border-bottom: 1px solid gray;flex-grow: 1;}#sk-container-id-1 div.sk-label:hover label.sk-toggleable__label {background-color: #d4ebff;}#sk-container-id-1 div.sk-serial::before {content: \"\";position: absolute;border-left: 1px solid gray;box-sizing: border-box;top: 0;bottom: 0;left: 50%;z-index: 0;}#sk-container-id-1 div.sk-serial {display: flex;flex-direction: column;align-items: center;background-color: white;padding-right: 0.2em;padding-left: 0.2em;position: relative;}#sk-container-id-1 div.sk-item {position: relative;z-index: 1;}#sk-container-id-1 div.sk-parallel {display: flex;align-items: stretch;justify-content: center;background-color: white;position: relative;}#sk-container-id-1 div.sk-item::before, #sk-container-id-1 div.sk-parallel-item::before {content: \"\";position: absolute;border-left: 1px solid gray;box-sizing: border-box;top: 0;bottom: 0;left: 50%;z-index: -1;}#sk-container-id-1 div.sk-parallel-item {display: flex;flex-direction: column;z-index: 1;position: relative;background-color: white;}#sk-container-id-1 div.sk-parallel-item:first-child::after {align-self: flex-end;width: 50%;}#sk-container-id-1 div.sk-parallel-item:last-child::after {align-self: flex-start;width: 50%;}#sk-container-id-1 div.sk-parallel-item:only-child::after {width: 0;}#sk-container-id-1 div.sk-dashed-wrapped {border: 1px dashed gray;margin: 0 0.4em 0.5em 0.4em;box-sizing: border-box;padding-bottom: 0.4em;background-color: white;}#sk-container-id-1 div.sk-label label {font-family: monospace;font-weight: bold;display: inline-block;line-height: 1.2em;}#sk-container-id-1 div.sk-label-container {text-align: center;}#sk-container-id-1 div.sk-container {/* jupyter's `normalize.less` sets `[hidden] { display: none; }` but bootstrap.min.css set `[hidden] { display: none !important; }` so we also need the `!important` here to be able to override the default hidden behavior on the sphinx rendered scikit-learn.org. See: https://github.com/scikit-learn/scikit-learn/issues/21755 */display: inline-block !important;position: relative;}#sk-container-id-1 div.sk-text-repr-fallback {display: none;}</style><div id=\"sk-container-id-1\" class=\"sk-top-container\"><div class=\"sk-text-repr-fallback\"><pre>RFE(estimator=LinearRegression(), n_features_to_select=10)</pre><b>In a Jupyter environment, please rerun this cell to show the HTML representation or trust the notebook. <br />On GitHub, the HTML representation is unable to render, please try loading this page with nbviewer.org.</b></div><div class=\"sk-container\" hidden><div class=\"sk-item sk-dashed-wrapped\"><div class=\"sk-label-container\"><div class=\"sk-label sk-toggleable\"><input class=\"sk-toggleable__control sk-hidden--visually\" id=\"sk-estimator-id-1\" type=\"checkbox\" ><label for=\"sk-estimator-id-1\" class=\"sk-toggleable__label sk-toggleable__label-arrow\">RFE</label><div class=\"sk-toggleable__content\"><pre>RFE(estimator=LinearRegression(), n_features_to_select=10)</pre></div></div></div><div class=\"sk-parallel\"><div class=\"sk-parallel-item\"><div class=\"sk-item\"><div class=\"sk-label-container\"><div class=\"sk-label sk-toggleable\"><input class=\"sk-toggleable__control sk-hidden--visually\" id=\"sk-estimator-id-2\" type=\"checkbox\" ><label for=\"sk-estimator-id-2\" class=\"sk-toggleable__label sk-toggleable__label-arrow\">estimator: LinearRegression</label><div class=\"sk-toggleable__content\"><pre>LinearRegression()</pre></div></div></div><div class=\"sk-serial\"><div class=\"sk-item\"><div class=\"sk-estimator sk-toggleable\"><input class=\"sk-toggleable__control sk-hidden--visually\" id=\"sk-estimator-id-3\" type=\"checkbox\" ><label for=\"sk-estimator-id-3\" class=\"sk-toggleable__label sk-toggleable__label-arrow\">LinearRegression</label><div class=\"sk-toggleable__content\"><pre>LinearRegression()</pre></div></div></div></div></div></div></div></div></div></div>"
      ],
      "text/plain": [
       "RFE(estimator=LinearRegression(), n_features_to_select=10)"
      ]
     },
     "execution_count": 49,
     "metadata": {},
     "output_type": "execute_result"
    }
   ],
   "source": [
    "from sklearn.feature_selection import RFE\n",
    "rfe=RFE(estimator=LinearRegression(),n_features_to_select=10)\n",
    "rfe.fit(pnx_train_df,numYTr_data)\n"
   ]
  },
  {
   "cell_type": "code",
   "execution_count": 59,
   "metadata": {},
   "outputs": [
    {
     "name": "stdout",
     "output_type": "stream",
     "text": [
      "{'Heart Rate': 5, 'Gender': 1, 'Blood Type: _AB': 1, 'Blood Type: _B': 1, 'Temperature Blood Type: _A': 8, 'Temperature Blood Type: _AB': 10, 'Temperature Blood Type: _B': 7, 'Temperature Blood Type: _O': 9, 'Heart Rate Blood Type: _A': 2, 'Heart Rate Blood Type: _AB': 6, 'Heart Rate Blood Type: _B': 4, 'Heart Rate Blood Type: _O': 3, 'Gender^2': 1, 'Gender Blood Type: _A': 1, 'Gender Blood Type: _AB': 1, 'Gender Blood Type: _B': 1, 'Gender Blood Type: _O': 1, 'Blood Type: _AB^2': 1, 'Blood Type: _B^2': 1}\n"
     ]
    }
   ],
   "source": [
    "column_ranking_dict=dict(zip(pnx_train_df.columns,rfe.ranking_))\n",
    "filtered_columns = {col: rank for col, rank in column_ranking_dict.items() if rank <= 10}\n",
    "\n",
    "# Print the filtered columns\n",
    "print(filtered_columns)"
   ]
  },
  {
   "cell_type": "code",
   "execution_count": 75,
   "metadata": {},
   "outputs": [
    {
     "name": "stdout",
     "output_type": "stream",
     "text": [
      "mae: 11.241244515787075\n",
      "mse: 187.1227628752128\n"
     ]
    },
    {
     "name": "stderr",
     "output_type": "stream",
     "text": [
      "C:\\Users\\ahmad\\AppData\\Roaming\\Python\\Python311\\site-packages\\sklearn\\base.py:465: UserWarning: X does not have valid feature names, but RFE was fitted with feature names\n",
      "  warnings.warn(\n",
      "C:\\Users\\ahmad\\AppData\\Roaming\\Python\\Python311\\site-packages\\sklearn\\base.py:465: UserWarning: X does not have valid feature names, but RFE was fitted with feature names\n",
      "  warnings.warn(\n"
     ]
    }
   ],
   "source": [
    "pnx_test=polyfeat.transform(nx_test)\n",
    "\n",
    "mae=mean_absolute_error(numYTst_data,rfe.predict(pnx_test))\n",
    "mse=mean_squared_error(numYTst_data,rfe.predict(pnx_test))\n",
    "\n",
    "print(\"mae:\",mae)\n",
    "print(\"mse:\",mse)"
   ]
  },
  {
   "cell_type": "code",
   "execution_count": null,
   "metadata": {},
   "outputs": [],
   "source": []
  }
 ],
 "metadata": {
  "kernelspec": {
   "display_name": "Python 3",
   "language": "python",
   "name": "python3"
  },
  "language_info": {
   "codemirror_mode": {
    "name": "ipython",
    "version": 3
   },
   "file_extension": ".py",
   "mimetype": "text/x-python",
   "name": "python",
   "nbconvert_exporter": "python",
   "pygments_lexer": "ipython3",
   "version": "3.11.6"
  }
 },
 "nbformat": 4,
 "nbformat_minor": 2
}
